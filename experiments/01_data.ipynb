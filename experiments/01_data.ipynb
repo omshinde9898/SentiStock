{
 "cells": [
  {
   "cell_type": "code",
   "execution_count": 1,
   "metadata": {},
   "outputs": [],
   "source": [
    "import os\n",
    "\n",
    "os.chdir('../')"
   ]
  },
  {
   "cell_type": "code",
   "execution_count": 2,
   "metadata": {},
   "outputs": [],
   "source": [
    "from src.data.scraper import MC_Scraper\n",
    "\n",
    "sc = MC_Scraper()\n",
    "data = sc.get_headlines()"
   ]
  },
  {
   "cell_type": "code",
   "execution_count": 3,
   "metadata": {},
   "outputs": [],
   "source": [
    "# data[0].find('a').get('title')"
   ]
  },
  {
   "cell_type": "code",
   "execution_count": 4,
   "metadata": {},
   "outputs": [
    {
     "data": {
      "text/plain": [
       "['MCPro Quick Take | Hero MotoCorp Q1FY25: Strong performance, driven by rural recovery',\n",
       " 'Bulk deals: SBI Mutual Fund buys 0.62% stake in Sundaram Fasteners',\n",
       " 'Vedanta to offload 2.6 percent stake in Hindustan Zinc via Offer For Sale',\n",
       " 'Nifty, Sensex plunge as all sectors slip in the red; Metal, bank stocks worst hit',\n",
       " 'Live: Nifty drops below key support of 24,200 as banks slump| Aarti Inds, Bata in focus|Closing Bell',\n",
       " 'Taking Stock: Market reacts to mixed macroeconomic data; Sensex down 693 pts, Nifty below 24,150',\n",
       " 'Citi, Jefferies remain bullish on ONGC after govt hikes premiums for new gas wells',\n",
       " 'Accumulate Jyothy Labs; target of Rs 645: Geojit Financial Services',\n",
       " 'Weak global cues will have little impact on resilient Indian markets, says Tridib Pathak of Avendus',\n",
       " 'Buy Lemon Tree Hotels; target of Rs 150: Anand Rathi',\n",
       " 'Accumulate PVR Inox; target of Rs 1709: Geojit Financial Services',\n",
       " 'Accumulate H.G. Infra Engineering; target of Rs 1788: Geojit Financial Services',\n",
       " 'Hold Astral; target of Rs 2225: Prabhudas Lilladher',\n",
       " 'DOMS Industries shares surge, hits all-time high on stellar Q1 results',\n",
       " 'Sugar stocks rise up to 6% amid buzz of govt mulling ethanol price hike proposal',\n",
       " 'Hold Jubilant FoodWorks; target of Rs 612: Prabhudas Lilladher',\n",
       " 'Speed breaker: Inventory glut could trigger correction in four-wheeler stocks',\n",
       " 'Reduce NOCIL; target of Rs 262: Prabhudas Lilladher',\n",
       " \"Torrent Pharma may raise up to $3 billion for KKR's stake in JB Chemicals: Report\",\n",
       " 'Accumulate ABB India; target of Rs 8833: Prabhudas Lilladher',\n",
       " 'Accumulate Siemens; target of Rs 7362: Prabhudas Lilladher',\n",
       " 'Accumulate Zydus Lifesciences; target of Rs 1305: Prabhudas Lilladher',\n",
       " 'Accumulate Bharat Forge; target of Rs 1701: Prabhudas Lilladher',\n",
       " 'Aarti Industries down 15% on doubts over EBITDA guidance, China squeezing margins',\n",
       " \"RVNL stock gains on MSCI India Index inclusion; Antique resumes coverage with 'sell' rating\",\n",
       " None]"
      ]
     },
     "execution_count": 4,
     "metadata": {},
     "output_type": "execute_result"
    }
   ],
   "source": [
    "data"
   ]
  }
 ],
 "metadata": {
  "kernelspec": {
   "display_name": "venv",
   "language": "python",
   "name": "python3"
  },
  "language_info": {
   "codemirror_mode": {
    "name": "ipython",
    "version": 3
   },
   "file_extension": ".py",
   "mimetype": "text/x-python",
   "name": "python",
   "nbconvert_exporter": "python",
   "pygments_lexer": "ipython3",
   "version": "3.12.3"
  }
 },
 "nbformat": 4,
 "nbformat_minor": 2
}
