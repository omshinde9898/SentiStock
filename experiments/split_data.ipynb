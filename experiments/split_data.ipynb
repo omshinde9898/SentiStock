{
 "cells": [
  {
   "cell_type": "code",
   "execution_count": 1,
   "metadata": {},
   "outputs": [],
   "source": [
    "import os\n",
    "os.chdir(\"../\")"
   ]
  },
  {
   "cell_type": "code",
   "execution_count": 2,
   "metadata": {},
   "outputs": [
    {
     "name": "stdout",
     "output_type": "stream",
     "text": [
      "[2024-08-15 13:38:43,848: INFO: __init__: reading csv file from csvs/all-data.csv]\n",
      "[2024-08-15 13:38:43,910: INFO: __init__: reading csv file from csvs/stock_news.csv]\n",
      "[2024-08-15 13:38:43,958: INFO: __init__: Returned data frame from csv files]\n"
     ]
    }
   ],
   "source": [
    "from src.data import read_csv_headlines\n",
    "\n",
    "paths = [\n",
    "    \"csvs/all-data.csv\",\n",
    "    \"csvs/stock_news.csv\",\n",
    "]\n",
    "\n",
    "df = read_csv_headlines(paths)"
   ]
  },
  {
   "cell_type": "code",
   "execution_count": 4,
   "metadata": {},
   "outputs": [
    {
     "data": {
      "text/plain": [
       "24676"
      ]
     },
     "execution_count": 4,
     "metadata": {},
     "output_type": "execute_result"
    }
   ],
   "source": [
    "ind = int((df.shape[0]/100)*80)\n",
    "ind"
   ]
  },
  {
   "cell_type": "code",
   "execution_count": 6,
   "metadata": {},
   "outputs": [
    {
     "name": "stdout",
     "output_type": "stream",
     "text": [
      "(24676, 2)\n",
      "(6170, 2)\n"
     ]
    }
   ],
   "source": [
    "df_train = df[:ind]\n",
    "df_test = df[ind:]\n",
    "print(df_train.shape)\n",
    "print(df_test.shape)"
   ]
  },
  {
   "cell_type": "code",
   "execution_count": 7,
   "metadata": {},
   "outputs": [
    {
     "name": "stdout",
     "output_type": "stream",
     "text": [
      "[2024-08-15 13:48:11,220: INFO: database: Using PostgreSQL Database handler on host : 172.17.0.1]\n",
      "[2024-08-15 13:48:11,221: INFO: database: Updating table : traindata with new dataframe]\n",
      "[2024-08-15 13:48:11,656: INFO: database: Updating table : testdata with new dataframe]\n"
     ]
    }
   ],
   "source": [
    "from src.data.database import DatabaseHandler , PostgreSqlDatabaseHandler\n",
    "def split_data(handler:DatabaseHandler):\n",
    "    handler.frame_to_database(df_train,'traindata')\n",
    "    handler.frame_to_database(df_test,'testdata')\n",
    "\n",
    "\n",
    "\n",
    "handler = PostgreSqlDatabaseHandler(\n",
    "    config={\n",
    "        \"host\" : \"172.17.0.1\",\n",
    "        \"user\" : 'postgres',\n",
    "        \"password\" : 'hello',\n",
    "        \"database\" : 'sentistock'\n",
    "    }\n",
    ")\n",
    "\n",
    "split_data(handler)"
   ]
  },
  {
   "cell_type": "code",
   "execution_count": null,
   "metadata": {},
   "outputs": [],
   "source": []
  }
 ],
 "metadata": {
  "kernelspec": {
   "display_name": "venv",
   "language": "python",
   "name": "python3"
  },
  "language_info": {
   "codemirror_mode": {
    "name": "ipython",
    "version": 3
   },
   "file_extension": ".py",
   "mimetype": "text/x-python",
   "name": "python",
   "nbconvert_exporter": "python",
   "pygments_lexer": "ipython3",
   "version": "3.12.3"
  }
 },
 "nbformat": 4,
 "nbformat_minor": 2
}
