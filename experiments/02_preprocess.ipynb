{
 "cells": [
  {
   "cell_type": "code",
   "execution_count": 1,
   "metadata": {},
   "outputs": [],
   "source": [
    "import os\n",
    "\n",
    "os.chdir('../')"
   ]
  },
  {
   "cell_type": "code",
   "execution_count": 2,
   "metadata": {},
   "outputs": [
    {
     "name": "stdout",
     "output_type": "stream",
     "text": [
      "<Compressed Sparse Row sparse matrix of dtype 'int64'\n",
      "\twith 7 stored elements and shape (1, 22691)>\n",
      "  Coords\tValues\n",
      "  (0, 1268)\t1\n",
      "  (0, 9259)\t1\n",
      "  (0, 4970)\t2\n",
      "  (0, 15566)\t1\n",
      "  (0, 16046)\t1\n",
      "  (0, 17691)\t1\n",
      "  (0, 9372)\t1\n"
     ]
    }
   ],
   "source": [
    "from src.preprocess import PreprocessStep , CountVectTransformer , TokenTransformer\n",
    "from src.data.database import DatabaseHandler , PostgreSqlDatabaseHandler\n",
    "\n",
    "def runTest(handler:DatabaseHandler):\n",
    "    data = handler.load_from_database(table_name='traindata')\n",
    "    vect = CountVectTransformer()\n",
    "    print(vect.fit_transform(data['headline'])[0])\n",
    "\n",
    "\n",
    "handler = PostgreSqlDatabaseHandler(\n",
    "    config={\n",
    "        \"host\" : \"172.17.0.1\",\n",
    "        \"user\" : 'postgres',\n",
    "        \"password\" : 'hello',\n",
    "        \"database\" : 'sentistock'\n",
    "    }\n",
    ")\n",
    "runTest(handler)\n"
   ]
  },
  {
   "cell_type": "code",
   "execution_count": 3,
   "metadata": {},
   "outputs": [
    {
     "name": "stdout",
     "output_type": "stream",
     "text": [
      "['According', 'to', 'Gran', ',', 'the', 'company', 'has', 'no', 'plans', 'to', 'move', 'all', 'production', 'to', 'Russia', ',', 'although', 'that', 'is', 'where', 'the', 'company', 'is', 'growing', '.']\n"
     ]
    },
    {
     "name": "stderr",
     "output_type": "stream",
     "text": [
      "[nltk_data] Downloading package punkt_tab to\n",
      "[nltk_data]     /home/warlock/nltk_data...\n",
      "[nltk_data]   Package punkt_tab is already up-to-date!\n"
     ]
    }
   ],
   "source": [
    "from src.preprocess import PreprocessStep , CountVectTransformer , TokenTransformer\n",
    "from src.data.database import DatabaseHandler , PostgreSqlDatabaseHandler\n",
    "\n",
    "def runTest(handler:DatabaseHandler):\n",
    "    data = handler.load_from_database(table_name='traindata')\n",
    "    vect = TokenTransformer(level='word')\n",
    "    print(vect.fit_transform(data.iloc[0]['headline']))\n",
    "\n",
    "\n",
    "handler = PostgreSqlDatabaseHandler(\n",
    "    config={\n",
    "        \"host\" : \"172.17.0.1\",\n",
    "        \"user\" : 'postgres',\n",
    "        \"password\" : 'hello',\n",
    "        \"database\" : 'sentistock'\n",
    "    }\n",
    ")\n",
    "runTest(handler)\n"
   ]
  },
  {
   "cell_type": "code",
   "execution_count": 5,
   "metadata": {},
   "outputs": [
    {
     "name": "stdout",
     "output_type": "stream",
     "text": [
      "--2024-08-15 17:03:25,460: INFO: database: Using PostgreSQL Database handler on host : 172.17.0.1\n",
      "--2024-08-15 17:03:25,460: INFO: database: Requesting data from databse table : traindata\n",
      "--2024-08-15 17:03:25,533: INFO: database: Requesting data from databse table : testdata\n",
      "--2024-08-15 17:03:25,718: INFO: __init__: Saving Vectorizer to : artifacts/CountVectTransformer/latest.pkl\n",
      "--2024-08-15 17:03:25,722: INFO: __init__: Reading vectorizer binary from : artifacts/CountVectTransformer/latest.pkl\n",
      "(24676, 20433)\n",
      "(6170, 20433)\n"
     ]
    }
   ],
   "source": [
    "from src.preprocess import PreprocessStep , CountVectTransformer , TokenTransformer\n",
    "from src.data.database import DatabaseHandler , PostgreSqlDatabaseHandler\n",
    "\n",
    "def runTest(handler:DatabaseHandler):\n",
    "    data1 = handler.load_from_database(table_name='traindata')\n",
    "    data2 = handler.load_from_database(table_name='testdata')\n",
    "    vect = CountVectTransformer()\n",
    "    train = vect.fit_transform(data1['headline'])\n",
    "    vect = CountVectTransformer()\n",
    "    test = vect.transform(data2['headline'])\n",
    "    print(train.shape)\n",
    "    print(test.shape)\n",
    "\n",
    "\n",
    "handler = PostgreSqlDatabaseHandler(\n",
    "    config={\n",
    "        \"host\" : \"172.17.0.1\",\n",
    "        \"user\" : 'postgres',\n",
    "        \"password\" : 'hello',\n",
    "        \"database\" : 'sentistock'\n",
    "    }\n",
    ")\n",
    "runTest(handler)\n"
   ]
  },
  {
   "cell_type": "code",
   "execution_count": null,
   "metadata": {},
   "outputs": [],
   "source": []
  }
 ],
 "metadata": {
  "kernelspec": {
   "display_name": "venv",
   "language": "python",
   "name": "python3"
  },
  "language_info": {
   "codemirror_mode": {
    "name": "ipython",
    "version": 3
   },
   "file_extension": ".py",
   "mimetype": "text/x-python",
   "name": "python",
   "nbconvert_exporter": "python",
   "pygments_lexer": "ipython3",
   "version": "3.12.3"
  }
 },
 "nbformat": 4,
 "nbformat_minor": 2
}
